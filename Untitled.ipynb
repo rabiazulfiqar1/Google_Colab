{
 "cells": [
  {
   "cell_type": "code",
   "execution_count": 1,
   "id": "9c5e1f31-2ce7-47e1-86b2-3517e7d5715a",
   "metadata": {},
   "outputs": [],
   "source": [
    "import numpy as np\n",
    "import pandas as pd"
   ]
  },
  {
   "cell_type": "code",
   "execution_count": 2,
   "id": "2cb3db9a-727d-4c9d-b4c4-e543e62be9c0",
   "metadata": {},
   "outputs": [],
   "source": [
    "dict1 = {\n",
    "    \"name\":['harry', 'rohan', 'skillf', 'shubh'],\n",
    "    \"marks\": [92, 34, 24, 17],\n",
    "    \"city\":['rampur', 'kolkata','bareilly','antartica']\n",
    "}"
   ]
  },
  {
   "cell_type": "code",
   "execution_count": null,
   "id": "8b469298-8730-45a9-bf3e-b08b04d5eed4",
   "metadata": {},
   "outputs": [],
   "source": [
    "df = pd.DataFrame(dict1) "
   ]
  },
  {
   "cell_type": "code",
   "execution_count": 4,
   "id": "4a4ece68-f494-496c-93fa-0fd4afe6987f",
   "metadata": {},
   "outputs": [
    {
     "data": {
      "text/html": [
       "<div>\n",
       "<style scoped>\n",
       "    .dataframe tbody tr th:only-of-type {\n",
       "        vertical-align: middle;\n",
       "    }\n",
       "\n",
       "    .dataframe tbody tr th {\n",
       "        vertical-align: top;\n",
       "    }\n",
       "\n",
       "    .dataframe thead th {\n",
       "        text-align: right;\n",
       "    }\n",
       "</style>\n",
       "<table border=\"1\" class=\"dataframe\">\n",
       "  <thead>\n",
       "    <tr style=\"text-align: right;\">\n",
       "      <th></th>\n",
       "      <th>name</th>\n",
       "      <th>marks</th>\n",
       "      <th>city</th>\n",
       "    </tr>\n",
       "  </thead>\n",
       "  <tbody>\n",
       "    <tr>\n",
       "      <th>0</th>\n",
       "      <td>harry</td>\n",
       "      <td>92</td>\n",
       "      <td>rampur</td>\n",
       "    </tr>\n",
       "    <tr>\n",
       "      <th>1</th>\n",
       "      <td>rohan</td>\n",
       "      <td>34</td>\n",
       "      <td>kolkata</td>\n",
       "    </tr>\n",
       "    <tr>\n",
       "      <th>2</th>\n",
       "      <td>skillf</td>\n",
       "      <td>24</td>\n",
       "      <td>bareilly</td>\n",
       "    </tr>\n",
       "    <tr>\n",
       "      <th>3</th>\n",
       "      <td>shubh</td>\n",
       "      <td>17</td>\n",
       "      <td>antartica</td>\n",
       "    </tr>\n",
       "  </tbody>\n",
       "</table>\n",
       "</div>"
      ],
      "text/plain": [
       "     name  marks       city\n",
       "0   harry     92     rampur\n",
       "1   rohan     34    kolkata\n",
       "2  skillf     24   bareilly\n",
       "3   shubh     17  antartica"
      ]
     },
     "execution_count": 4,
     "metadata": {},
     "output_type": "execute_result"
    }
   ],
   "source": [
    "df"
   ]
  },
  {
   "cell_type": "code",
   "execution_count": 5,
   "id": "8e3f9b9e-e7ca-4dcf-81b6-771a84747cba",
   "metadata": {},
   "outputs": [],
   "source": [
    "df.to_csv('friends.csv')"
   ]
  },
  {
   "cell_type": "code",
   "execution_count": 6,
   "id": "e91ad5fb-5fc2-43a5-a83a-f63b6a0a7a5b",
   "metadata": {},
   "outputs": [],
   "source": [
    "df.to_csv('friends_index_false.csv', index=False)"
   ]
  },
  {
   "cell_type": "code",
   "execution_count": 7,
   "id": "58a1877b-1f65-465a-8a82-1e29940fc4bd",
   "metadata": {},
   "outputs": [
    {
     "data": {
      "text/html": [
       "<div>\n",
       "<style scoped>\n",
       "    .dataframe tbody tr th:only-of-type {\n",
       "        vertical-align: middle;\n",
       "    }\n",
       "\n",
       "    .dataframe tbody tr th {\n",
       "        vertical-align: top;\n",
       "    }\n",
       "\n",
       "    .dataframe thead th {\n",
       "        text-align: right;\n",
       "    }\n",
       "</style>\n",
       "<table border=\"1\" class=\"dataframe\">\n",
       "  <thead>\n",
       "    <tr style=\"text-align: right;\">\n",
       "      <th></th>\n",
       "      <th>name</th>\n",
       "      <th>marks</th>\n",
       "      <th>city</th>\n",
       "    </tr>\n",
       "  </thead>\n",
       "  <tbody>\n",
       "    <tr>\n",
       "      <th>0</th>\n",
       "      <td>harry</td>\n",
       "      <td>92</td>\n",
       "      <td>rampur</td>\n",
       "    </tr>\n",
       "    <tr>\n",
       "      <th>1</th>\n",
       "      <td>rohan</td>\n",
       "      <td>34</td>\n",
       "      <td>kolkata</td>\n",
       "    </tr>\n",
       "  </tbody>\n",
       "</table>\n",
       "</div>"
      ],
      "text/plain": [
       "    name  marks     city\n",
       "0  harry     92   rampur\n",
       "1  rohan     34  kolkata"
      ]
     },
     "execution_count": 7,
     "metadata": {},
     "output_type": "execute_result"
    }
   ],
   "source": [
    "df.head(2)"
   ]
  },
  {
   "cell_type": "code",
   "execution_count": 8,
   "id": "4eb8416f-056f-4f03-9341-0a9ca3965c02",
   "metadata": {},
   "outputs": [
    {
     "data": {
      "text/html": [
       "<div>\n",
       "<style scoped>\n",
       "    .dataframe tbody tr th:only-of-type {\n",
       "        vertical-align: middle;\n",
       "    }\n",
       "\n",
       "    .dataframe tbody tr th {\n",
       "        vertical-align: top;\n",
       "    }\n",
       "\n",
       "    .dataframe thead th {\n",
       "        text-align: right;\n",
       "    }\n",
       "</style>\n",
       "<table border=\"1\" class=\"dataframe\">\n",
       "  <thead>\n",
       "    <tr style=\"text-align: right;\">\n",
       "      <th></th>\n",
       "      <th>name</th>\n",
       "      <th>marks</th>\n",
       "      <th>city</th>\n",
       "    </tr>\n",
       "  </thead>\n",
       "  <tbody>\n",
       "    <tr>\n",
       "      <th>2</th>\n",
       "      <td>skillf</td>\n",
       "      <td>24</td>\n",
       "      <td>bareilly</td>\n",
       "    </tr>\n",
       "    <tr>\n",
       "      <th>3</th>\n",
       "      <td>shubh</td>\n",
       "      <td>17</td>\n",
       "      <td>antartica</td>\n",
       "    </tr>\n",
       "  </tbody>\n",
       "</table>\n",
       "</div>"
      ],
      "text/plain": [
       "     name  marks       city\n",
       "2  skillf     24   bareilly\n",
       "3   shubh     17  antartica"
      ]
     },
     "execution_count": 8,
     "metadata": {},
     "output_type": "execute_result"
    }
   ],
   "source": [
    "df.tail(2)"
   ]
  },
  {
   "cell_type": "code",
   "execution_count": 9,
   "id": "91bf148c-c639-4d5c-a2ee-f25af3759e8c",
   "metadata": {},
   "outputs": [
    {
     "data": {
      "text/html": [
       "<div>\n",
       "<style scoped>\n",
       "    .dataframe tbody tr th:only-of-type {\n",
       "        vertical-align: middle;\n",
       "    }\n",
       "\n",
       "    .dataframe tbody tr th {\n",
       "        vertical-align: top;\n",
       "    }\n",
       "\n",
       "    .dataframe thead th {\n",
       "        text-align: right;\n",
       "    }\n",
       "</style>\n",
       "<table border=\"1\" class=\"dataframe\">\n",
       "  <thead>\n",
       "    <tr style=\"text-align: right;\">\n",
       "      <th></th>\n",
       "      <th>marks</th>\n",
       "    </tr>\n",
       "  </thead>\n",
       "  <tbody>\n",
       "    <tr>\n",
       "      <th>count</th>\n",
       "      <td>4.00000</td>\n",
       "    </tr>\n",
       "    <tr>\n",
       "      <th>mean</th>\n",
       "      <td>41.75000</td>\n",
       "    </tr>\n",
       "    <tr>\n",
       "      <th>std</th>\n",
       "      <td>34.21866</td>\n",
       "    </tr>\n",
       "    <tr>\n",
       "      <th>min</th>\n",
       "      <td>17.00000</td>\n",
       "    </tr>\n",
       "    <tr>\n",
       "      <th>25%</th>\n",
       "      <td>22.25000</td>\n",
       "    </tr>\n",
       "    <tr>\n",
       "      <th>50%</th>\n",
       "      <td>29.00000</td>\n",
       "    </tr>\n",
       "    <tr>\n",
       "      <th>75%</th>\n",
       "      <td>48.50000</td>\n",
       "    </tr>\n",
       "    <tr>\n",
       "      <th>max</th>\n",
       "      <td>92.00000</td>\n",
       "    </tr>\n",
       "  </tbody>\n",
       "</table>\n",
       "</div>"
      ],
      "text/plain": [
       "          marks\n",
       "count   4.00000\n",
       "mean   41.75000\n",
       "std    34.21866\n",
       "min    17.00000\n",
       "25%    22.25000\n",
       "50%    29.00000\n",
       "75%    48.50000\n",
       "max    92.00000"
      ]
     },
     "execution_count": 9,
     "metadata": {},
     "output_type": "execute_result"
    }
   ],
   "source": [
    "df.describe()"
   ]
  },
  {
   "cell_type": "code",
   "execution_count": 11,
   "id": "ea876a6e-8564-465e-8db1-48a66de01df4",
   "metadata": {},
   "outputs": [],
   "source": [
    "ser = pd.Series(np.random.rand(34))"
   ]
  },
  {
   "cell_type": "code",
   "execution_count": 12,
   "id": "85c97b3b-9706-47be-be1e-7190de95031d",
   "metadata": {},
   "outputs": [
    {
     "data": {
      "text/plain": [
       "0     0.660784\n",
       "1     0.228060\n",
       "2     0.432695\n",
       "3     0.640045\n",
       "4     0.696629\n",
       "5     0.775450\n",
       "6     0.780843\n",
       "7     0.600814\n",
       "8     0.842165\n",
       "9     0.216291\n",
       "10    0.908608\n",
       "11    0.152834\n",
       "12    0.314877\n",
       "13    0.706873\n",
       "14    0.945216\n",
       "15    0.034229\n",
       "16    0.804054\n",
       "17    0.560724\n",
       "18    0.841482\n",
       "19    0.358111\n",
       "20    0.300813\n",
       "21    0.867227\n",
       "22    0.187713\n",
       "23    0.334309\n",
       "24    0.587514\n",
       "25    0.862068\n",
       "26    0.221592\n",
       "27    0.935147\n",
       "28    0.564234\n",
       "29    0.756897\n",
       "30    0.501555\n",
       "31    0.258734\n",
       "32    0.851938\n",
       "33    0.688021\n",
       "dtype: float64"
      ]
     },
     "execution_count": 12,
     "metadata": {},
     "output_type": "execute_result"
    }
   ],
   "source": [
    "ser"
   ]
  },
  {
   "cell_type": "code",
   "execution_count": 13,
   "id": "ca5f8a55-8aec-4729-9928-a9dfc60c7542",
   "metadata": {},
   "outputs": [
    {
     "data": {
      "text/plain": [
       "pandas.core.series.Series"
      ]
     },
     "execution_count": 13,
     "metadata": {},
     "output_type": "execute_result"
    }
   ],
   "source": [
    "type(ser)"
   ]
  },
  {
   "cell_type": "code",
   "execution_count": 14,
   "id": "0597457d-9f9a-4ea5-8882-94d603621811",
   "metadata": {},
   "outputs": [],
   "source": [
    "newdf = pd.DataFrame(np.random.rand(334, 5), index=np.arange(334))"
   ]
  },
  {
   "cell_type": "code",
   "execution_count": 15,
   "id": "b8a5c0cb-5cfc-4471-a6e7-86250af10faa",
   "metadata": {},
   "outputs": [
    {
     "data": {
      "text/html": [
       "<div>\n",
       "<style scoped>\n",
       "    .dataframe tbody tr th:only-of-type {\n",
       "        vertical-align: middle;\n",
       "    }\n",
       "\n",
       "    .dataframe tbody tr th {\n",
       "        vertical-align: top;\n",
       "    }\n",
       "\n",
       "    .dataframe thead th {\n",
       "        text-align: right;\n",
       "    }\n",
       "</style>\n",
       "<table border=\"1\" class=\"dataframe\">\n",
       "  <thead>\n",
       "    <tr style=\"text-align: right;\">\n",
       "      <th></th>\n",
       "      <th>0</th>\n",
       "      <th>1</th>\n",
       "      <th>2</th>\n",
       "      <th>3</th>\n",
       "      <th>4</th>\n",
       "    </tr>\n",
       "  </thead>\n",
       "  <tbody>\n",
       "    <tr>\n",
       "      <th>0</th>\n",
       "      <td>0.673676</td>\n",
       "      <td>0.637566</td>\n",
       "      <td>0.585481</td>\n",
       "      <td>0.819826</td>\n",
       "      <td>0.769939</td>\n",
       "    </tr>\n",
       "    <tr>\n",
       "      <th>1</th>\n",
       "      <td>0.943699</td>\n",
       "      <td>0.886686</td>\n",
       "      <td>0.680290</td>\n",
       "      <td>0.234025</td>\n",
       "      <td>0.534079</td>\n",
       "    </tr>\n",
       "    <tr>\n",
       "      <th>2</th>\n",
       "      <td>0.553577</td>\n",
       "      <td>0.946814</td>\n",
       "      <td>0.055902</td>\n",
       "      <td>0.155340</td>\n",
       "      <td>0.534687</td>\n",
       "    </tr>\n",
       "    <tr>\n",
       "      <th>3</th>\n",
       "      <td>0.355334</td>\n",
       "      <td>0.824447</td>\n",
       "      <td>0.767062</td>\n",
       "      <td>0.947318</td>\n",
       "      <td>0.621711</td>\n",
       "    </tr>\n",
       "    <tr>\n",
       "      <th>4</th>\n",
       "      <td>0.218420</td>\n",
       "      <td>0.631604</td>\n",
       "      <td>0.009333</td>\n",
       "      <td>0.052294</td>\n",
       "      <td>0.965802</td>\n",
       "    </tr>\n",
       "  </tbody>\n",
       "</table>\n",
       "</div>"
      ],
      "text/plain": [
       "          0         1         2         3         4\n",
       "0  0.673676  0.637566  0.585481  0.819826  0.769939\n",
       "1  0.943699  0.886686  0.680290  0.234025  0.534079\n",
       "2  0.553577  0.946814  0.055902  0.155340  0.534687\n",
       "3  0.355334  0.824447  0.767062  0.947318  0.621711\n",
       "4  0.218420  0.631604  0.009333  0.052294  0.965802"
      ]
     },
     "execution_count": 15,
     "metadata": {},
     "output_type": "execute_result"
    }
   ],
   "source": [
    "newdf.head()"
   ]
  },
  {
   "cell_type": "code",
   "execution_count": 17,
   "id": "dec245f3-bd22-42fa-899f-4c3defda0d36",
   "metadata": {},
   "outputs": [
    {
     "data": {
      "text/plain": [
       "pandas.core.frame.DataFrame"
      ]
     },
     "execution_count": 17,
     "metadata": {},
     "output_type": "execute_result"
    }
   ],
   "source": [
    "type(newdf)"
   ]
  },
  {
   "cell_type": "code",
   "execution_count": 18,
   "id": "87fdca41-041c-4560-8910-18cb6f62f637",
   "metadata": {},
   "outputs": [
    {
     "data": {
      "text/html": [
       "<div>\n",
       "<style scoped>\n",
       "    .dataframe tbody tr th:only-of-type {\n",
       "        vertical-align: middle;\n",
       "    }\n",
       "\n",
       "    .dataframe tbody tr th {\n",
       "        vertical-align: top;\n",
       "    }\n",
       "\n",
       "    .dataframe thead th {\n",
       "        text-align: right;\n",
       "    }\n",
       "</style>\n",
       "<table border=\"1\" class=\"dataframe\">\n",
       "  <thead>\n",
       "    <tr style=\"text-align: right;\">\n",
       "      <th></th>\n",
       "      <th>0</th>\n",
       "      <th>1</th>\n",
       "      <th>2</th>\n",
       "      <th>3</th>\n",
       "      <th>4</th>\n",
       "    </tr>\n",
       "  </thead>\n",
       "  <tbody>\n",
       "    <tr>\n",
       "      <th>count</th>\n",
       "      <td>334.000000</td>\n",
       "      <td>334.000000</td>\n",
       "      <td>334.000000</td>\n",
       "      <td>334.000000</td>\n",
       "      <td>334.000000</td>\n",
       "    </tr>\n",
       "    <tr>\n",
       "      <th>mean</th>\n",
       "      <td>0.508478</td>\n",
       "      <td>0.530044</td>\n",
       "      <td>0.481784</td>\n",
       "      <td>0.502528</td>\n",
       "      <td>0.495142</td>\n",
       "    </tr>\n",
       "    <tr>\n",
       "      <th>std</th>\n",
       "      <td>0.285327</td>\n",
       "      <td>0.291455</td>\n",
       "      <td>0.303236</td>\n",
       "      <td>0.286908</td>\n",
       "      <td>0.288454</td>\n",
       "    </tr>\n",
       "    <tr>\n",
       "      <th>min</th>\n",
       "      <td>0.001500</td>\n",
       "      <td>0.011391</td>\n",
       "      <td>0.002788</td>\n",
       "      <td>0.001758</td>\n",
       "      <td>0.003995</td>\n",
       "    </tr>\n",
       "    <tr>\n",
       "      <th>25%</th>\n",
       "      <td>0.249208</td>\n",
       "      <td>0.271081</td>\n",
       "      <td>0.217407</td>\n",
       "      <td>0.253771</td>\n",
       "      <td>0.220168</td>\n",
       "    </tr>\n",
       "    <tr>\n",
       "      <th>50%</th>\n",
       "      <td>0.522123</td>\n",
       "      <td>0.550682</td>\n",
       "      <td>0.482927</td>\n",
       "      <td>0.499984</td>\n",
       "      <td>0.523922</td>\n",
       "    </tr>\n",
       "    <tr>\n",
       "      <th>75%</th>\n",
       "      <td>0.739199</td>\n",
       "      <td>0.770372</td>\n",
       "      <td>0.731890</td>\n",
       "      <td>0.720759</td>\n",
       "      <td>0.742584</td>\n",
       "    </tr>\n",
       "    <tr>\n",
       "      <th>max</th>\n",
       "      <td>0.998073</td>\n",
       "      <td>0.998786</td>\n",
       "      <td>0.999955</td>\n",
       "      <td>0.997643</td>\n",
       "      <td>0.996958</td>\n",
       "    </tr>\n",
       "  </tbody>\n",
       "</table>\n",
       "</div>"
      ],
      "text/plain": [
       "                0           1           2           3           4\n",
       "count  334.000000  334.000000  334.000000  334.000000  334.000000\n",
       "mean     0.508478    0.530044    0.481784    0.502528    0.495142\n",
       "std      0.285327    0.291455    0.303236    0.286908    0.288454\n",
       "min      0.001500    0.011391    0.002788    0.001758    0.003995\n",
       "25%      0.249208    0.271081    0.217407    0.253771    0.220168\n",
       "50%      0.522123    0.550682    0.482927    0.499984    0.523922\n",
       "75%      0.739199    0.770372    0.731890    0.720759    0.742584\n",
       "max      0.998073    0.998786    0.999955    0.997643    0.996958"
      ]
     },
     "execution_count": 18,
     "metadata": {},
     "output_type": "execute_result"
    }
   ],
   "source": [
    "newdf.describe()"
   ]
  },
  {
   "cell_type": "code",
   "execution_count": 19,
   "id": "98d2c4ea-4a95-4f2e-9c7c-d437b166ef57",
   "metadata": {},
   "outputs": [
    {
     "data": {
      "text/plain": [
       "0    float64\n",
       "1    float64\n",
       "2    float64\n",
       "3    float64\n",
       "4    float64\n",
       "dtype: object"
      ]
     },
     "execution_count": 19,
     "metadata": {},
     "output_type": "execute_result"
    }
   ],
   "source": [
    "newdf.dtypes"
   ]
  },
  {
   "cell_type": "code",
   "execution_count": 20,
   "id": "80a0dc9b-54d1-4471-8805-958c32ddb2e7",
   "metadata": {},
   "outputs": [
    {
     "name": "stderr",
     "output_type": "stream",
     "text": [
      "C:\\Users\\rzulf\\AppData\\Local\\Temp\\ipykernel_19772\\2771891818.py:1: FutureWarning: ChainedAssignmentError: behaviour will change in pandas 3.0!\n",
      "You are setting values through chained assignment. Currently this works in certain cases, but when using Copy-on-Write (which will become the default behaviour in pandas 3.0) this will never work to update the original DataFrame or Series, because the intermediate object on which we are setting values will behave as a copy.\n",
      "A typical example is when you are setting values in a column of a DataFrame, like:\n",
      "\n",
      "df[\"col\"][row_indexer] = value\n",
      "\n",
      "Use `df.loc[row_indexer, \"col\"] = values` instead, to perform the assignment in a single step and ensure this keeps updating the original `df`.\n",
      "\n",
      "See the caveats in the documentation: https://pandas.pydata.org/pandas-docs/stable/user_guide/indexing.html#returning-a-view-versus-a-copy\n",
      "\n",
      "  newdf[0][0] = \"harry\"\n",
      "C:\\Users\\rzulf\\AppData\\Local\\Temp\\ipykernel_19772\\2771891818.py:1: FutureWarning: Setting an item of incompatible dtype is deprecated and will raise an error in a future version of pandas. Value 'harry' has dtype incompatible with float64, please explicitly cast to a compatible dtype first.\n",
      "  newdf[0][0] = \"harry\"\n"
     ]
    }
   ],
   "source": [
    "newdf[0][0] = \"harry\""
   ]
  },
  {
   "cell_type": "code",
   "execution_count": 21,
   "id": "5d047743-0d57-4b5e-ae90-9112e4ba708d",
   "metadata": {},
   "outputs": [
    {
     "data": {
      "text/plain": [
       "0     object\n",
       "1    float64\n",
       "2    float64\n",
       "3    float64\n",
       "4    float64\n",
       "dtype: object"
      ]
     },
     "execution_count": 21,
     "metadata": {},
     "output_type": "execute_result"
    }
   ],
   "source": [
    "newdf.dtypes"
   ]
  },
  {
   "cell_type": "code",
   "execution_count": 22,
   "id": "2f2d59ed-1e90-4b3f-bd3a-6768f7fc9987",
   "metadata": {},
   "outputs": [
    {
     "data": {
      "text/html": [
       "<div>\n",
       "<style scoped>\n",
       "    .dataframe tbody tr th:only-of-type {\n",
       "        vertical-align: middle;\n",
       "    }\n",
       "\n",
       "    .dataframe tbody tr th {\n",
       "        vertical-align: top;\n",
       "    }\n",
       "\n",
       "    .dataframe thead th {\n",
       "        text-align: right;\n",
       "    }\n",
       "</style>\n",
       "<table border=\"1\" class=\"dataframe\">\n",
       "  <thead>\n",
       "    <tr style=\"text-align: right;\">\n",
       "      <th></th>\n",
       "      <th>0</th>\n",
       "      <th>1</th>\n",
       "      <th>2</th>\n",
       "      <th>3</th>\n",
       "      <th>4</th>\n",
       "    </tr>\n",
       "  </thead>\n",
       "  <tbody>\n",
       "    <tr>\n",
       "      <th>0</th>\n",
       "      <td>harry</td>\n",
       "      <td>0.637566</td>\n",
       "      <td>0.585481</td>\n",
       "      <td>0.819826</td>\n",
       "      <td>0.769939</td>\n",
       "    </tr>\n",
       "    <tr>\n",
       "      <th>1</th>\n",
       "      <td>0.943699</td>\n",
       "      <td>0.886686</td>\n",
       "      <td>0.680290</td>\n",
       "      <td>0.234025</td>\n",
       "      <td>0.534079</td>\n",
       "    </tr>\n",
       "    <tr>\n",
       "      <th>2</th>\n",
       "      <td>0.553577</td>\n",
       "      <td>0.946814</td>\n",
       "      <td>0.055902</td>\n",
       "      <td>0.155340</td>\n",
       "      <td>0.534687</td>\n",
       "    </tr>\n",
       "    <tr>\n",
       "      <th>3</th>\n",
       "      <td>0.355334</td>\n",
       "      <td>0.824447</td>\n",
       "      <td>0.767062</td>\n",
       "      <td>0.947318</td>\n",
       "      <td>0.621711</td>\n",
       "    </tr>\n",
       "    <tr>\n",
       "      <th>4</th>\n",
       "      <td>0.21842</td>\n",
       "      <td>0.631604</td>\n",
       "      <td>0.009333</td>\n",
       "      <td>0.052294</td>\n",
       "      <td>0.965802</td>\n",
       "    </tr>\n",
       "  </tbody>\n",
       "</table>\n",
       "</div>"
      ],
      "text/plain": [
       "          0         1         2         3         4\n",
       "0     harry  0.637566  0.585481  0.819826  0.769939\n",
       "1  0.943699  0.886686  0.680290  0.234025  0.534079\n",
       "2  0.553577  0.946814  0.055902  0.155340  0.534687\n",
       "3  0.355334  0.824447  0.767062  0.947318  0.621711\n",
       "4   0.21842  0.631604  0.009333  0.052294  0.965802"
      ]
     },
     "execution_count": 22,
     "metadata": {},
     "output_type": "execute_result"
    }
   ],
   "source": [
    "newdf.head()"
   ]
  },
  {
   "cell_type": "code",
   "execution_count": 23,
   "id": "4ca4fdbb-99f6-4b96-8c61-4f81c329ff95",
   "metadata": {},
   "outputs": [
    {
     "data": {
      "text/plain": [
       "Index([  0,   1,   2,   3,   4,   5,   6,   7,   8,   9,\n",
       "       ...\n",
       "       324, 325, 326, 327, 328, 329, 330, 331, 332, 333],\n",
       "      dtype='int64', length=334)"
      ]
     },
     "execution_count": 23,
     "metadata": {},
     "output_type": "execute_result"
    }
   ],
   "source": [
    "newdf.index"
   ]
  },
  {
   "cell_type": "code",
   "execution_count": 24,
   "id": "da36ad8f-aeab-4cf8-a920-ecdc40057411",
   "metadata": {},
   "outputs": [
    {
     "data": {
      "text/plain": [
       "RangeIndex(start=0, stop=5, step=1)"
      ]
     },
     "execution_count": 24,
     "metadata": {},
     "output_type": "execute_result"
    }
   ],
   "source": [
    "newdf.columns"
   ]
  },
  {
   "cell_type": "code",
   "execution_count": 28,
   "id": "e1b2a0bf-b5a2-4ebf-bd5f-297fbc6bdc95",
   "metadata": {},
   "outputs": [
    {
     "data": {
      "text/plain": [
       "array([[0.3, 0.6375655619673645, 0.5854814499514448, 0.8198259957076335,\n",
       "        0.76993882505222],\n",
       "       [0.9436987610150754, 0.8866859017353863, 0.6802903281845442,\n",
       "        0.23402454520522098, 0.5340793518274362],\n",
       "       [0.5535770746567378, 0.946813528911192, 0.05590210279017627,\n",
       "        0.1553399196574169, 0.5346867180561745],\n",
       "       ...,\n",
       "       [0.18130957797427305, 0.3398382526839777, 0.8007532954788694,\n",
       "        0.43486779994677105, 0.7898016881292529],\n",
       "       [0.9562496276858361, 0.8811549282515098, 0.12849821935634764,\n",
       "        0.8055709707844949, 0.19820647275063952],\n",
       "       [0.05412066454935571, 0.23518564463761193, 0.26497205894237896,\n",
       "        0.8587236978173206, 0.1501403666068879]],\n",
       "      shape=(334, 5), dtype=object)"
      ]
     },
     "execution_count": 28,
     "metadata": {},
     "output_type": "execute_result"
    }
   ],
   "source": [
    "newdf.to_numpy()"
   ]
  },
  {
   "cell_type": "code",
   "execution_count": 26,
   "id": "4547be95-d8a1-4f0c-b02b-a3ac58df436a",
   "metadata": {},
   "outputs": [],
   "source": [
    "newdf[0][0]=0.3"
   ]
  },
  {
   "cell_type": "code",
   "execution_count": 27,
   "id": "3e84697a-ddc4-494e-89ad-15e0b5950103",
   "metadata": {},
   "outputs": [
    {
     "data": {
      "text/html": [
       "<div>\n",
       "<style scoped>\n",
       "    .dataframe tbody tr th:only-of-type {\n",
       "        vertical-align: middle;\n",
       "    }\n",
       "\n",
       "    .dataframe tbody tr th {\n",
       "        vertical-align: top;\n",
       "    }\n",
       "\n",
       "    .dataframe thead th {\n",
       "        text-align: right;\n",
       "    }\n",
       "</style>\n",
       "<table border=\"1\" class=\"dataframe\">\n",
       "  <thead>\n",
       "    <tr style=\"text-align: right;\">\n",
       "      <th></th>\n",
       "      <th>0</th>\n",
       "      <th>1</th>\n",
       "      <th>2</th>\n",
       "      <th>3</th>\n",
       "      <th>4</th>\n",
       "    </tr>\n",
       "  </thead>\n",
       "  <tbody>\n",
       "    <tr>\n",
       "      <th>0</th>\n",
       "      <td>0.3</td>\n",
       "      <td>0.637566</td>\n",
       "      <td>0.585481</td>\n",
       "      <td>0.819826</td>\n",
       "      <td>0.769939</td>\n",
       "    </tr>\n",
       "    <tr>\n",
       "      <th>1</th>\n",
       "      <td>0.943699</td>\n",
       "      <td>0.886686</td>\n",
       "      <td>0.680290</td>\n",
       "      <td>0.234025</td>\n",
       "      <td>0.534079</td>\n",
       "    </tr>\n",
       "    <tr>\n",
       "      <th>2</th>\n",
       "      <td>0.553577</td>\n",
       "      <td>0.946814</td>\n",
       "      <td>0.055902</td>\n",
       "      <td>0.155340</td>\n",
       "      <td>0.534687</td>\n",
       "    </tr>\n",
       "    <tr>\n",
       "      <th>3</th>\n",
       "      <td>0.355334</td>\n",
       "      <td>0.824447</td>\n",
       "      <td>0.767062</td>\n",
       "      <td>0.947318</td>\n",
       "      <td>0.621711</td>\n",
       "    </tr>\n",
       "    <tr>\n",
       "      <th>4</th>\n",
       "      <td>0.21842</td>\n",
       "      <td>0.631604</td>\n",
       "      <td>0.009333</td>\n",
       "      <td>0.052294</td>\n",
       "      <td>0.965802</td>\n",
       "    </tr>\n",
       "  </tbody>\n",
       "</table>\n",
       "</div>"
      ],
      "text/plain": [
       "          0         1         2         3         4\n",
       "0       0.3  0.637566  0.585481  0.819826  0.769939\n",
       "1  0.943699  0.886686  0.680290  0.234025  0.534079\n",
       "2  0.553577  0.946814  0.055902  0.155340  0.534687\n",
       "3  0.355334  0.824447  0.767062  0.947318  0.621711\n",
       "4   0.21842  0.631604  0.009333  0.052294  0.965802"
      ]
     },
     "execution_count": 27,
     "metadata": {},
     "output_type": "execute_result"
    }
   ],
   "source": [
    "newdf.head()"
   ]
  },
  {
   "cell_type": "code",
   "execution_count": 29,
   "id": "9acdcbf3-ef6b-45a2-96fb-dccdaad2c80a",
   "metadata": {},
   "outputs": [
    {
     "data": {
      "text/html": [
       "<div>\n",
       "<style scoped>\n",
       "    .dataframe tbody tr th:only-of-type {\n",
       "        vertical-align: middle;\n",
       "    }\n",
       "\n",
       "    .dataframe tbody tr th {\n",
       "        vertical-align: top;\n",
       "    }\n",
       "\n",
       "    .dataframe thead th {\n",
       "        text-align: right;\n",
       "    }\n",
       "</style>\n",
       "<table border=\"1\" class=\"dataframe\">\n",
       "  <thead>\n",
       "    <tr style=\"text-align: right;\">\n",
       "      <th></th>\n",
       "      <th>0</th>\n",
       "      <th>1</th>\n",
       "      <th>2</th>\n",
       "      <th>3</th>\n",
       "      <th>4</th>\n",
       "      <th>5</th>\n",
       "      <th>6</th>\n",
       "      <th>7</th>\n",
       "      <th>8</th>\n",
       "      <th>9</th>\n",
       "      <th>...</th>\n",
       "      <th>324</th>\n",
       "      <th>325</th>\n",
       "      <th>326</th>\n",
       "      <th>327</th>\n",
       "      <th>328</th>\n",
       "      <th>329</th>\n",
       "      <th>330</th>\n",
       "      <th>331</th>\n",
       "      <th>332</th>\n",
       "      <th>333</th>\n",
       "    </tr>\n",
       "  </thead>\n",
       "  <tbody>\n",
       "    <tr>\n",
       "      <th>0</th>\n",
       "      <td>0.3</td>\n",
       "      <td>0.943699</td>\n",
       "      <td>0.553577</td>\n",
       "      <td>0.355334</td>\n",
       "      <td>0.21842</td>\n",
       "      <td>0.806327</td>\n",
       "      <td>0.905631</td>\n",
       "      <td>0.555875</td>\n",
       "      <td>0.483778</td>\n",
       "      <td>0.440736</td>\n",
       "      <td>...</td>\n",
       "      <td>0.731596</td>\n",
       "      <td>0.43887</td>\n",
       "      <td>0.553895</td>\n",
       "      <td>0.124921</td>\n",
       "      <td>0.698952</td>\n",
       "      <td>0.998073</td>\n",
       "      <td>0.895684</td>\n",
       "      <td>0.18131</td>\n",
       "      <td>0.95625</td>\n",
       "      <td>0.054121</td>\n",
       "    </tr>\n",
       "    <tr>\n",
       "      <th>1</th>\n",
       "      <td>0.637566</td>\n",
       "      <td>0.886686</td>\n",
       "      <td>0.946814</td>\n",
       "      <td>0.824447</td>\n",
       "      <td>0.631604</td>\n",
       "      <td>0.692436</td>\n",
       "      <td>0.791419</td>\n",
       "      <td>0.942374</td>\n",
       "      <td>0.070728</td>\n",
       "      <td>0.356738</td>\n",
       "      <td>...</td>\n",
       "      <td>0.926495</td>\n",
       "      <td>0.389423</td>\n",
       "      <td>0.655724</td>\n",
       "      <td>0.752328</td>\n",
       "      <td>0.122989</td>\n",
       "      <td>0.550062</td>\n",
       "      <td>0.15111</td>\n",
       "      <td>0.339838</td>\n",
       "      <td>0.881155</td>\n",
       "      <td>0.235186</td>\n",
       "    </tr>\n",
       "    <tr>\n",
       "      <th>2</th>\n",
       "      <td>0.585481</td>\n",
       "      <td>0.68029</td>\n",
       "      <td>0.055902</td>\n",
       "      <td>0.767062</td>\n",
       "      <td>0.009333</td>\n",
       "      <td>0.022866</td>\n",
       "      <td>0.769271</td>\n",
       "      <td>0.085984</td>\n",
       "      <td>0.491045</td>\n",
       "      <td>0.521229</td>\n",
       "      <td>...</td>\n",
       "      <td>0.148691</td>\n",
       "      <td>0.619871</td>\n",
       "      <td>0.091489</td>\n",
       "      <td>0.351336</td>\n",
       "      <td>0.340727</td>\n",
       "      <td>0.215355</td>\n",
       "      <td>0.245219</td>\n",
       "      <td>0.800753</td>\n",
       "      <td>0.128498</td>\n",
       "      <td>0.264972</td>\n",
       "    </tr>\n",
       "    <tr>\n",
       "      <th>3</th>\n",
       "      <td>0.819826</td>\n",
       "      <td>0.234025</td>\n",
       "      <td>0.15534</td>\n",
       "      <td>0.947318</td>\n",
       "      <td>0.052294</td>\n",
       "      <td>0.292146</td>\n",
       "      <td>0.489041</td>\n",
       "      <td>0.765825</td>\n",
       "      <td>0.462111</td>\n",
       "      <td>0.268764</td>\n",
       "      <td>...</td>\n",
       "      <td>0.540915</td>\n",
       "      <td>0.975721</td>\n",
       "      <td>0.707981</td>\n",
       "      <td>0.986504</td>\n",
       "      <td>0.903654</td>\n",
       "      <td>0.180825</td>\n",
       "      <td>0.444577</td>\n",
       "      <td>0.434868</td>\n",
       "      <td>0.805571</td>\n",
       "      <td>0.858724</td>\n",
       "    </tr>\n",
       "    <tr>\n",
       "      <th>4</th>\n",
       "      <td>0.769939</td>\n",
       "      <td>0.534079</td>\n",
       "      <td>0.534687</td>\n",
       "      <td>0.621711</td>\n",
       "      <td>0.965802</td>\n",
       "      <td>0.859888</td>\n",
       "      <td>0.103236</td>\n",
       "      <td>0.025087</td>\n",
       "      <td>0.265266</td>\n",
       "      <td>0.604021</td>\n",
       "      <td>...</td>\n",
       "      <td>0.20407</td>\n",
       "      <td>0.010026</td>\n",
       "      <td>0.901747</td>\n",
       "      <td>0.219994</td>\n",
       "      <td>0.059522</td>\n",
       "      <td>0.206213</td>\n",
       "      <td>0.805775</td>\n",
       "      <td>0.789802</td>\n",
       "      <td>0.198206</td>\n",
       "      <td>0.15014</td>\n",
       "    </tr>\n",
       "  </tbody>\n",
       "</table>\n",
       "<p>5 rows × 334 columns</p>\n",
       "</div>"
      ],
      "text/plain": [
       "        0         1         2         3         4         5         6    \\\n",
       "0       0.3  0.943699  0.553577  0.355334   0.21842  0.806327  0.905631   \n",
       "1  0.637566  0.886686  0.946814  0.824447  0.631604  0.692436  0.791419   \n",
       "2  0.585481   0.68029  0.055902  0.767062  0.009333  0.022866  0.769271   \n",
       "3  0.819826  0.234025   0.15534  0.947318  0.052294  0.292146  0.489041   \n",
       "4  0.769939  0.534079  0.534687  0.621711  0.965802  0.859888  0.103236   \n",
       "\n",
       "        7         8         9    ...       324       325       326       327  \\\n",
       "0  0.555875  0.483778  0.440736  ...  0.731596   0.43887  0.553895  0.124921   \n",
       "1  0.942374  0.070728  0.356738  ...  0.926495  0.389423  0.655724  0.752328   \n",
       "2  0.085984  0.491045  0.521229  ...  0.148691  0.619871  0.091489  0.351336   \n",
       "3  0.765825  0.462111  0.268764  ...  0.540915  0.975721  0.707981  0.986504   \n",
       "4  0.025087  0.265266  0.604021  ...   0.20407  0.010026  0.901747  0.219994   \n",
       "\n",
       "        328       329       330       331       332       333  \n",
       "0  0.698952  0.998073  0.895684   0.18131   0.95625  0.054121  \n",
       "1  0.122989  0.550062   0.15111  0.339838  0.881155  0.235186  \n",
       "2  0.340727  0.215355  0.245219  0.800753  0.128498  0.264972  \n",
       "3  0.903654  0.180825  0.444577  0.434868  0.805571  0.858724  \n",
       "4  0.059522  0.206213  0.805775  0.789802  0.198206   0.15014  \n",
       "\n",
       "[5 rows x 334 columns]"
      ]
     },
     "execution_count": 29,
     "metadata": {},
     "output_type": "execute_result"
    }
   ],
   "source": [
    "newdf.T"
   ]
  },
  {
   "cell_type": "code",
   "execution_count": 30,
   "id": "4d52b5dd-b889-4563-9047-eba4f2556a20",
   "metadata": {},
   "outputs": [
    {
     "data": {
      "text/html": [
       "<div>\n",
       "<style scoped>\n",
       "    .dataframe tbody tr th:only-of-type {\n",
       "        vertical-align: middle;\n",
       "    }\n",
       "\n",
       "    .dataframe tbody tr th {\n",
       "        vertical-align: top;\n",
       "    }\n",
       "\n",
       "    .dataframe thead th {\n",
       "        text-align: right;\n",
       "    }\n",
       "</style>\n",
       "<table border=\"1\" class=\"dataframe\">\n",
       "  <thead>\n",
       "    <tr style=\"text-align: right;\">\n",
       "      <th></th>\n",
       "      <th>0</th>\n",
       "      <th>1</th>\n",
       "      <th>2</th>\n",
       "      <th>3</th>\n",
       "      <th>4</th>\n",
       "    </tr>\n",
       "  </thead>\n",
       "  <tbody>\n",
       "    <tr>\n",
       "      <th>333</th>\n",
       "      <td>0.054121</td>\n",
       "      <td>0.235186</td>\n",
       "      <td>0.264972</td>\n",
       "      <td>0.858724</td>\n",
       "      <td>0.150140</td>\n",
       "    </tr>\n",
       "    <tr>\n",
       "      <th>332</th>\n",
       "      <td>0.95625</td>\n",
       "      <td>0.881155</td>\n",
       "      <td>0.128498</td>\n",
       "      <td>0.805571</td>\n",
       "      <td>0.198206</td>\n",
       "    </tr>\n",
       "    <tr>\n",
       "      <th>331</th>\n",
       "      <td>0.18131</td>\n",
       "      <td>0.339838</td>\n",
       "      <td>0.800753</td>\n",
       "      <td>0.434868</td>\n",
       "      <td>0.789802</td>\n",
       "    </tr>\n",
       "    <tr>\n",
       "      <th>330</th>\n",
       "      <td>0.895684</td>\n",
       "      <td>0.151110</td>\n",
       "      <td>0.245219</td>\n",
       "      <td>0.444577</td>\n",
       "      <td>0.805775</td>\n",
       "    </tr>\n",
       "    <tr>\n",
       "      <th>329</th>\n",
       "      <td>0.998073</td>\n",
       "      <td>0.550062</td>\n",
       "      <td>0.215355</td>\n",
       "      <td>0.180825</td>\n",
       "      <td>0.206213</td>\n",
       "    </tr>\n",
       "    <tr>\n",
       "      <th>...</th>\n",
       "      <td>...</td>\n",
       "      <td>...</td>\n",
       "      <td>...</td>\n",
       "      <td>...</td>\n",
       "      <td>...</td>\n",
       "    </tr>\n",
       "    <tr>\n",
       "      <th>4</th>\n",
       "      <td>0.21842</td>\n",
       "      <td>0.631604</td>\n",
       "      <td>0.009333</td>\n",
       "      <td>0.052294</td>\n",
       "      <td>0.965802</td>\n",
       "    </tr>\n",
       "    <tr>\n",
       "      <th>3</th>\n",
       "      <td>0.355334</td>\n",
       "      <td>0.824447</td>\n",
       "      <td>0.767062</td>\n",
       "      <td>0.947318</td>\n",
       "      <td>0.621711</td>\n",
       "    </tr>\n",
       "    <tr>\n",
       "      <th>2</th>\n",
       "      <td>0.553577</td>\n",
       "      <td>0.946814</td>\n",
       "      <td>0.055902</td>\n",
       "      <td>0.155340</td>\n",
       "      <td>0.534687</td>\n",
       "    </tr>\n",
       "    <tr>\n",
       "      <th>1</th>\n",
       "      <td>0.943699</td>\n",
       "      <td>0.886686</td>\n",
       "      <td>0.680290</td>\n",
       "      <td>0.234025</td>\n",
       "      <td>0.534079</td>\n",
       "    </tr>\n",
       "    <tr>\n",
       "      <th>0</th>\n",
       "      <td>0.3</td>\n",
       "      <td>0.637566</td>\n",
       "      <td>0.585481</td>\n",
       "      <td>0.819826</td>\n",
       "      <td>0.769939</td>\n",
       "    </tr>\n",
       "  </tbody>\n",
       "</table>\n",
       "<p>334 rows × 5 columns</p>\n",
       "</div>"
      ],
      "text/plain": [
       "            0         1         2         3         4\n",
       "333  0.054121  0.235186  0.264972  0.858724  0.150140\n",
       "332   0.95625  0.881155  0.128498  0.805571  0.198206\n",
       "331   0.18131  0.339838  0.800753  0.434868  0.789802\n",
       "330  0.895684  0.151110  0.245219  0.444577  0.805775\n",
       "329  0.998073  0.550062  0.215355  0.180825  0.206213\n",
       "..        ...       ...       ...       ...       ...\n",
       "4     0.21842  0.631604  0.009333  0.052294  0.965802\n",
       "3    0.355334  0.824447  0.767062  0.947318  0.621711\n",
       "2    0.553577  0.946814  0.055902  0.155340  0.534687\n",
       "1    0.943699  0.886686  0.680290  0.234025  0.534079\n",
       "0         0.3  0.637566  0.585481  0.819826  0.769939\n",
       "\n",
       "[334 rows x 5 columns]"
      ]
     },
     "execution_count": 30,
     "metadata": {},
     "output_type": "execute_result"
    }
   ],
   "source": [
    "newdf.sort_index(axis=0, ascending=False)"
   ]
  },
  {
   "cell_type": "code",
   "execution_count": 46,
   "id": "a0d7492c-a9f6-4b72-a459-68d879274914",
   "metadata": {},
   "outputs": [],
   "source": [
    "df = pd.DataFrame({\n",
    "    \"name\":['Alfred', 'Batman','Alfred'],\n",
    "    \"toy\":[np.nan,'Batmobile','Bullwhip'],\n",
    "    \"born\":[pd.NaT, pd.Timestamp(\"1930-04-25\"),pd.NaT]\n",
    "})"
   ]
  },
  {
   "cell_type": "code",
   "execution_count": 47,
   "id": "2014eeb3-e02f-4926-bcb8-afc240efe655",
   "metadata": {},
   "outputs": [
    {
     "data": {
      "text/html": [
       "<div>\n",
       "<style scoped>\n",
       "    .dataframe tbody tr th:only-of-type {\n",
       "        vertical-align: middle;\n",
       "    }\n",
       "\n",
       "    .dataframe tbody tr th {\n",
       "        vertical-align: top;\n",
       "    }\n",
       "\n",
       "    .dataframe thead th {\n",
       "        text-align: right;\n",
       "    }\n",
       "</style>\n",
       "<table border=\"1\" class=\"dataframe\">\n",
       "  <thead>\n",
       "    <tr style=\"text-align: right;\">\n",
       "      <th></th>\n",
       "      <th>name</th>\n",
       "      <th>toy</th>\n",
       "      <th>born</th>\n",
       "    </tr>\n",
       "  </thead>\n",
       "  <tbody>\n",
       "    <tr>\n",
       "      <th>0</th>\n",
       "      <td>Alfred</td>\n",
       "      <td>NaN</td>\n",
       "      <td>NaT</td>\n",
       "    </tr>\n",
       "    <tr>\n",
       "      <th>1</th>\n",
       "      <td>Batman</td>\n",
       "      <td>Batmobile</td>\n",
       "      <td>1930-04-25</td>\n",
       "    </tr>\n",
       "    <tr>\n",
       "      <th>2</th>\n",
       "      <td>Alfred</td>\n",
       "      <td>Bullwhip</td>\n",
       "      <td>NaT</td>\n",
       "    </tr>\n",
       "  </tbody>\n",
       "</table>\n",
       "</div>"
      ],
      "text/plain": [
       "     name        toy       born\n",
       "0  Alfred        NaN        NaT\n",
       "1  Batman  Batmobile 1930-04-25\n",
       "2  Alfred   Bullwhip        NaT"
      ]
     },
     "execution_count": 47,
     "metadata": {},
     "output_type": "execute_result"
    }
   ],
   "source": [
    "df.head()"
   ]
  },
  {
   "cell_type": "code",
   "execution_count": 43,
   "id": "8b97743a-5e01-4a0c-8dd9-cab2abeeec7a",
   "metadata": {},
   "outputs": [
    {
     "data": {
      "text/html": [
       "<div>\n",
       "<style scoped>\n",
       "    .dataframe tbody tr th:only-of-type {\n",
       "        vertical-align: middle;\n",
       "    }\n",
       "\n",
       "    .dataframe tbody tr th {\n",
       "        vertical-align: top;\n",
       "    }\n",
       "\n",
       "    .dataframe thead th {\n",
       "        text-align: right;\n",
       "    }\n",
       "</style>\n",
       "<table border=\"1\" class=\"dataframe\">\n",
       "  <thead>\n",
       "    <tr style=\"text-align: right;\">\n",
       "      <th></th>\n",
       "      <th>name</th>\n",
       "      <th>born</th>\n",
       "    </tr>\n",
       "  </thead>\n",
       "  <tbody>\n",
       "    <tr>\n",
       "      <th>0</th>\n",
       "      <td>Alfred</td>\n",
       "      <td>NaT</td>\n",
       "    </tr>\n",
       "    <tr>\n",
       "      <th>1</th>\n",
       "      <td>Batman</td>\n",
       "      <td>1930-04-25</td>\n",
       "    </tr>\n",
       "    <tr>\n",
       "      <th>2</th>\n",
       "      <td>Catwoman</td>\n",
       "      <td>NaT</td>\n",
       "    </tr>\n",
       "  </tbody>\n",
       "</table>\n",
       "</div>"
      ],
      "text/plain": [
       "       name       born\n",
       "0    Alfred        NaT\n",
       "1    Batman 1930-04-25\n",
       "2  Catwoman        NaT"
      ]
     },
     "execution_count": 43,
     "metadata": {},
     "output_type": "execute_result"
    }
   ],
   "source": [
    "df.dropna(how='all', axis=1)"
   ]
  },
  {
   "cell_type": "code",
   "execution_count": 45,
   "id": "4719b2a2-41fb-4b5d-9b62-8248dfc7858c",
   "metadata": {},
   "outputs": [
    {
     "data": {
      "text/html": [
       "<div>\n",
       "<style scoped>\n",
       "    .dataframe tbody tr th:only-of-type {\n",
       "        vertical-align: middle;\n",
       "    }\n",
       "\n",
       "    .dataframe tbody tr th {\n",
       "        vertical-align: top;\n",
       "    }\n",
       "\n",
       "    .dataframe thead th {\n",
       "        text-align: right;\n",
       "    }\n",
       "</style>\n",
       "<table border=\"1\" class=\"dataframe\">\n",
       "  <thead>\n",
       "    <tr style=\"text-align: right;\">\n",
       "      <th></th>\n",
       "      <th>name</th>\n",
       "      <th>toy</th>\n",
       "      <th>born</th>\n",
       "    </tr>\n",
       "  </thead>\n",
       "  <tbody>\n",
       "    <tr>\n",
       "      <th>0</th>\n",
       "      <td>Alfred</td>\n",
       "      <td>NaN</td>\n",
       "      <td>NaT</td>\n",
       "    </tr>\n",
       "    <tr>\n",
       "      <th>1</th>\n",
       "      <td>Batman</td>\n",
       "      <td>NaN</td>\n",
       "      <td>1930-04-25</td>\n",
       "    </tr>\n",
       "    <tr>\n",
       "      <th>2</th>\n",
       "      <td>Catwoman</td>\n",
       "      <td>NaN</td>\n",
       "      <td>NaT</td>\n",
       "    </tr>\n",
       "  </tbody>\n",
       "</table>\n",
       "</div>"
      ],
      "text/plain": [
       "       name  toy       born\n",
       "0    Alfred  NaN        NaT\n",
       "1    Batman  NaN 1930-04-25\n",
       "2  Catwoman  NaN        NaT"
      ]
     },
     "execution_count": 45,
     "metadata": {},
     "output_type": "execute_result"
    }
   ],
   "source": [
    "df.head()"
   ]
  },
  {
   "cell_type": "code",
   "execution_count": 52,
   "id": "669afbac-0074-4cf1-9b68-975522ff9bf0",
   "metadata": {},
   "outputs": [
    {
     "data": {
      "text/html": [
       "<div>\n",
       "<style scoped>\n",
       "    .dataframe tbody tr th:only-of-type {\n",
       "        vertical-align: middle;\n",
       "    }\n",
       "\n",
       "    .dataframe tbody tr th {\n",
       "        vertical-align: top;\n",
       "    }\n",
       "\n",
       "    .dataframe thead th {\n",
       "        text-align: right;\n",
       "    }\n",
       "</style>\n",
       "<table border=\"1\" class=\"dataframe\">\n",
       "  <thead>\n",
       "    <tr style=\"text-align: right;\">\n",
       "      <th></th>\n",
       "      <th>name</th>\n",
       "      <th>toy</th>\n",
       "      <th>born</th>\n",
       "    </tr>\n",
       "  </thead>\n",
       "  <tbody>\n",
       "    <tr>\n",
       "      <th>1</th>\n",
       "      <td>Batman</td>\n",
       "      <td>Batmobile</td>\n",
       "      <td>1930-04-25</td>\n",
       "    </tr>\n",
       "    <tr>\n",
       "      <th>2</th>\n",
       "      <td>Alfred</td>\n",
       "      <td>Bullwhip</td>\n",
       "      <td>NaT</td>\n",
       "    </tr>\n",
       "  </tbody>\n",
       "</table>\n",
       "</div>"
      ],
      "text/plain": [
       "     name        toy       born\n",
       "1  Batman  Batmobile 1930-04-25\n",
       "2  Alfred   Bullwhip        NaT"
      ]
     },
     "execution_count": 52,
     "metadata": {},
     "output_type": "execute_result"
    }
   ],
   "source": [
    "df.drop_duplicates(subset=['name'], keep='last')"
   ]
  },
  {
   "cell_type": "code",
   "execution_count": 53,
   "id": "6d7b94aa-8959-4870-ae78-3a5c975fcfdb",
   "metadata": {},
   "outputs": [
    {
     "data": {
      "text/html": [
       "<div>\n",
       "<style scoped>\n",
       "    .dataframe tbody tr th:only-of-type {\n",
       "        vertical-align: middle;\n",
       "    }\n",
       "\n",
       "    .dataframe tbody tr th {\n",
       "        vertical-align: top;\n",
       "    }\n",
       "\n",
       "    .dataframe thead th {\n",
       "        text-align: right;\n",
       "    }\n",
       "</style>\n",
       "<table border=\"1\" class=\"dataframe\">\n",
       "  <thead>\n",
       "    <tr style=\"text-align: right;\">\n",
       "      <th></th>\n",
       "      <th>name</th>\n",
       "      <th>toy</th>\n",
       "      <th>born</th>\n",
       "    </tr>\n",
       "  </thead>\n",
       "  <tbody>\n",
       "    <tr>\n",
       "      <th>0</th>\n",
       "      <td>Alfred</td>\n",
       "      <td>NaN</td>\n",
       "      <td>NaT</td>\n",
       "    </tr>\n",
       "    <tr>\n",
       "      <th>1</th>\n",
       "      <td>Batman</td>\n",
       "      <td>Batmobile</td>\n",
       "      <td>1930-04-25</td>\n",
       "    </tr>\n",
       "    <tr>\n",
       "      <th>2</th>\n",
       "      <td>Alfred</td>\n",
       "      <td>Bullwhip</td>\n",
       "      <td>NaT</td>\n",
       "    </tr>\n",
       "  </tbody>\n",
       "</table>\n",
       "</div>"
      ],
      "text/plain": [
       "     name        toy       born\n",
       "0  Alfred        NaN        NaT\n",
       "1  Batman  Batmobile 1930-04-25\n",
       "2  Alfred   Bullwhip        NaT"
      ]
     },
     "execution_count": 53,
     "metadata": {},
     "output_type": "execute_result"
    }
   ],
   "source": [
    "df.head()"
   ]
  },
  {
   "cell_type": "code",
   "execution_count": 55,
   "id": "0fd40035-8d71-45de-9eb4-d6b9587d8629",
   "metadata": {},
   "outputs": [
    {
     "data": {
      "text/plain": [
       "(3, 3)"
      ]
     },
     "execution_count": 55,
     "metadata": {},
     "output_type": "execute_result"
    }
   ],
   "source": [
    "df.shape"
   ]
  },
  {
   "cell_type": "code",
   "execution_count": 56,
   "id": "ce40abab-5d91-453f-b6f8-676bbe01fb86",
   "metadata": {},
   "outputs": [
    {
     "name": "stdout",
     "output_type": "stream",
     "text": [
      "<class 'pandas.core.frame.DataFrame'>\n",
      "RangeIndex: 3 entries, 0 to 2\n",
      "Data columns (total 3 columns):\n",
      " #   Column  Non-Null Count  Dtype         \n",
      "---  ------  --------------  -----         \n",
      " 0   name    3 non-null      object        \n",
      " 1   toy     2 non-null      object        \n",
      " 2   born    1 non-null      datetime64[ns]\n",
      "dtypes: datetime64[ns](1), object(2)\n",
      "memory usage: 204.0+ bytes\n"
     ]
    }
   ],
   "source": [
    "df.info()"
   ]
  },
  {
   "cell_type": "code",
   "execution_count": 59,
   "id": "4d784a9b-323c-48dd-94a7-847decfefdf9",
   "metadata": {},
   "outputs": [
    {
     "data": {
      "text/plain": [
       "toy\n",
       "Batmobile    1\n",
       "Bullwhip     1\n",
       "Name: count, dtype: int64"
      ]
     },
     "execution_count": 59,
     "metadata": {},
     "output_type": "execute_result"
    }
   ],
   "source": [
    "df['toy'].value_counts(dropna=True)"
   ]
  },
  {
   "cell_type": "code",
   "execution_count": 60,
   "id": "e6c4db9c-76b6-45f4-ae5b-bba83cdad94a",
   "metadata": {},
   "outputs": [
    {
     "data": {
      "text/html": [
       "<div>\n",
       "<style scoped>\n",
       "    .dataframe tbody tr th:only-of-type {\n",
       "        vertical-align: middle;\n",
       "    }\n",
       "\n",
       "    .dataframe tbody tr th {\n",
       "        vertical-align: top;\n",
       "    }\n",
       "\n",
       "    .dataframe thead th {\n",
       "        text-align: right;\n",
       "    }\n",
       "</style>\n",
       "<table border=\"1\" class=\"dataframe\">\n",
       "  <thead>\n",
       "    <tr style=\"text-align: right;\">\n",
       "      <th></th>\n",
       "      <th>name</th>\n",
       "      <th>toy</th>\n",
       "      <th>born</th>\n",
       "    </tr>\n",
       "  </thead>\n",
       "  <tbody>\n",
       "    <tr>\n",
       "      <th>0</th>\n",
       "      <td>True</td>\n",
       "      <td>False</td>\n",
       "      <td>False</td>\n",
       "    </tr>\n",
       "    <tr>\n",
       "      <th>1</th>\n",
       "      <td>True</td>\n",
       "      <td>True</td>\n",
       "      <td>True</td>\n",
       "    </tr>\n",
       "    <tr>\n",
       "      <th>2</th>\n",
       "      <td>True</td>\n",
       "      <td>True</td>\n",
       "      <td>False</td>\n",
       "    </tr>\n",
       "  </tbody>\n",
       "</table>\n",
       "</div>"
      ],
      "text/plain": [
       "   name    toy   born\n",
       "0  True  False  False\n",
       "1  True   True   True\n",
       "2  True   True  False"
      ]
     },
     "execution_count": 60,
     "metadata": {},
     "output_type": "execute_result"
    }
   ],
   "source": [
    "df.notnull()"
   ]
  },
  {
   "cell_type": "code",
   "execution_count": 61,
   "id": "fdea285f-aa2e-4245-b5d0-5f4d04d6ae55",
   "metadata": {},
   "outputs": [
    {
     "data": {
      "text/html": [
       "<div>\n",
       "<style scoped>\n",
       "    .dataframe tbody tr th:only-of-type {\n",
       "        vertical-align: middle;\n",
       "    }\n",
       "\n",
       "    .dataframe tbody tr th {\n",
       "        vertical-align: top;\n",
       "    }\n",
       "\n",
       "    .dataframe thead th {\n",
       "        text-align: right;\n",
       "    }\n",
       "</style>\n",
       "<table border=\"1\" class=\"dataframe\">\n",
       "  <thead>\n",
       "    <tr style=\"text-align: right;\">\n",
       "      <th></th>\n",
       "      <th>name</th>\n",
       "      <th>toy</th>\n",
       "      <th>born</th>\n",
       "    </tr>\n",
       "  </thead>\n",
       "  <tbody>\n",
       "    <tr>\n",
       "      <th>0</th>\n",
       "      <td>False</td>\n",
       "      <td>True</td>\n",
       "      <td>True</td>\n",
       "    </tr>\n",
       "    <tr>\n",
       "      <th>1</th>\n",
       "      <td>False</td>\n",
       "      <td>False</td>\n",
       "      <td>False</td>\n",
       "    </tr>\n",
       "    <tr>\n",
       "      <th>2</th>\n",
       "      <td>False</td>\n",
       "      <td>False</td>\n",
       "      <td>True</td>\n",
       "    </tr>\n",
       "  </tbody>\n",
       "</table>\n",
       "</div>"
      ],
      "text/plain": [
       "    name    toy   born\n",
       "0  False   True   True\n",
       "1  False  False  False\n",
       "2  False  False   True"
      ]
     },
     "execution_count": 61,
     "metadata": {},
     "output_type": "execute_result"
    }
   ],
   "source": [
    "df.isnull()"
   ]
  },
  {
   "cell_type": "code",
   "execution_count": null,
   "id": "806bea31-ffeb-452e-bdc9-866e82ad97a5",
   "metadata": {},
   "outputs": [],
   "source": []
  }
 ],
 "metadata": {
  "kernelspec": {
   "display_name": "Python 3 (ipykernel)",
   "language": "python",
   "name": "python3"
  },
  "language_info": {
   "codemirror_mode": {
    "name": "ipython",
    "version": 3
   },
   "file_extension": ".py",
   "mimetype": "text/x-python",
   "name": "python",
   "nbconvert_exporter": "python",
   "pygments_lexer": "ipython3",
   "version": "3.13.2"
  }
 },
 "nbformat": 4,
 "nbformat_minor": 5
}
